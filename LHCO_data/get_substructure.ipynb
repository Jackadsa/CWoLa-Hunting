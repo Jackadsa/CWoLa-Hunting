{
 "cells": [
  {
   "cell_type": "code",
   "execution_count": 90,
   "metadata": {},
   "outputs": [],
   "source": [
    "import fastjet as fj\n",
    "import Nsubjettiness as Nsub\n",
    "import numpy as np\n",
    "import pandas as pd"
   ]
  },
  {
   "cell_type": "code",
   "execution_count": 91,
   "metadata": {},
   "outputs": [],
   "source": [
    "fn = \"events_LHCO2020_BlackBox2.h5\"\n",
    "chunksize = 1000\n",
    "# chunksize=1\n",
    "total_size = 10**6\n",
    "# total_size=1\n",
    "def generator(filename, chunksize=chunksize,total_size=total_size):\n",
    "\n",
    "    i = 0\n",
    "    \n",
    "    while True:\n",
    "\n",
    "        yield pd.read_hdf(filename,start=i*chunksize, stop=(i+1)*chunksize).values\n",
    "\n",
    "        i+=1\n",
    "        if (i+1)*chunksize > total_size:\n",
    "            break\n",
    "            \n",
    "\n",
    "gen = generator(fn)"
   ]
  },
  {
   "cell_type": "code",
   "execution_count": 92,
   "metadata": {},
   "outputs": [],
   "source": [
    "tau21 = Nsub.NsubjettinessRatio(2,1,Nsub.OnePass_WTA_KT_Axes(),Nsub.UnnormalizedMeasure(1.))\n",
    "tau32 = Nsub.NsubjettinessRatio(3,2,Nsub.OnePass_WTA_KT_Axes(),Nsub.UnnormalizedMeasure(1.))\n",
    "tau43 = Nsub.NsubjettinessRatio(4,3,Nsub.OnePass_WTA_KT_Axes(),Nsub.UnnormalizedMeasure(1.))"
   ]
  },
  {
   "cell_type": "code",
   "execution_count": 93,
   "metadata": {},
   "outputs": [
    {
     "name": "stdout",
     "output_type": "stream",
     "text": [
      "0\n",
      "10000\n",
      "20000\n",
      "30000\n",
      "40000\n",
      "50000\n",
      "60000\n",
      "70000\n",
      "80000\n",
      "90000\n",
      "100000\n",
      "110000\n",
      "120000\n",
      "130000\n",
      "140000\n",
      "150000\n",
      "160000\n",
      "170000\n",
      "180000\n",
      "190000\n",
      "200000\n",
      "210000\n",
      "220000\n",
      "230000\n",
      "240000\n",
      "250000\n",
      "260000\n",
      "270000\n",
      "280000\n",
      "290000\n",
      "300000\n",
      "310000\n",
      "320000\n",
      "330000\n",
      "340000\n",
      "350000\n",
      "360000\n",
      "370000\n",
      "380000\n",
      "390000\n",
      "400000\n",
      "410000\n",
      "420000\n",
      "430000\n",
      "440000\n",
      "450000\n",
      "460000\n",
      "470000\n",
      "480000\n",
      "490000\n",
      "500000\n",
      "510000\n",
      "520000\n",
      "530000\n",
      "540000\n",
      "550000\n",
      "560000\n",
      "570000\n",
      "580000\n",
      "590000\n",
      "600000\n",
      "610000\n",
      "620000\n",
      "630000\n",
      "640000\n",
      "650000\n",
      "660000\n",
      "670000\n",
      "680000\n",
      "690000\n",
      "700000\n",
      "710000\n",
      "720000\n",
      "730000\n",
      "740000\n",
      "750000\n",
      "760000\n",
      "770000\n",
      "780000\n",
      "790000\n",
      "800000\n",
      "810000\n",
      "820000\n",
      "830000\n",
      "840000\n",
      "850000\n",
      "860000\n",
      "870000\n",
      "880000\n",
      "890000\n",
      "900000\n",
      "910000\n",
      "920000\n",
      "930000\n",
      "940000\n",
      "950000\n",
      "960000\n",
      "970000\n",
      "980000\n",
      "990000\n"
     ]
    }
   ],
   "source": [
    "#Now, let's cluster some jets!\n",
    "\n",
    "outdata=np.zeros((total_size,11))\n",
    "jet_def = fj.JetDefinition(fj.antikt_algorithm, 1.0)\n",
    "\n",
    "for i,events in enumerate(gen):\n",
    "    if (i%10==0):\n",
    "        print(i*chunksize)\n",
    "    pass\n",
    "    for j,event in enumerate(events):\n",
    "\n",
    "\n",
    "        numparticles = np.sum(event[::3]>0)\n",
    "        particles = []\n",
    "        \n",
    "        for k in range(numparticles):\n",
    "            particles += [fj.PtYPhiM(event[k*3],event[k*3+1],event[k*3+2],0)]\n",
    "\n",
    "        sequence = fj.ClusterSequence(particles,jet_def)\n",
    "        jets = fj.sorted_by_pt(sequence.inclusive_jets(ptmin=20))\n",
    "        mjj = (jets[0]+jets[1]).m()\n",
    "        m1 = jets[0].m()\n",
    "        m2 = jets[1].m()\n",
    "        tau21_1 = tau21.result(jets[0])\n",
    "        tau21_2 = tau21.result(jets[1])\n",
    "        tau32_1 = tau32.result(jets[0])\n",
    "        tau32_2 = tau32.result(jets[1])\n",
    "        tau43_1 = tau32.result(jets[0])\n",
    "        tau43_2 = tau32.result(jets[1])\n",
    "        npart_1 = len(jets[0].constituents())\n",
    "        npart_2 = len(jets[1].constituents())\n",
    "        outdata[i*chunksize + j] = np.array([mjj,m1,m2,tau21_1,tau21_2,\n",
    "                                            tau32_1,tau32_2,\n",
    "                                            tau43_1,tau43_2,\n",
    "                                            npart_1,npart_2])\n"
   ]
  },
  {
   "cell_type": "code",
   "execution_count": 101,
   "metadata": {},
   "outputs": [],
   "source": [
    "outstore = pd.HDFStore(\"/home/jack/projects/CWoLa-Hunting/LHCO_data/BB2_features.h5\")\n",
    "columns = [\"mjj\",\"mj_1\",\"mj_2\",\"tau21_1\",\"tau21_2\",\"tau32_1\",\"tau32_2\",\"tau43_1\",\"tau43_2\",\"ntrk_1\",\"ntrk_2\"]\n",
    "dictionary = dict(zip(columns, outdata.T))\n",
    "out_df = pd.DataFrame(dictionary,columns=columns)\n",
    "outstore.append('jetfeatures',out_df)\n",
    "outstore.close()"
   ]
  },
  {
   "cell_type": "code",
   "execution_count": 96,
   "metadata": {},
   "outputs": [
    {
     "data": {
      "text/html": [
       "<div>\n",
       "<style scoped>\n",
       "    .dataframe tbody tr th:only-of-type {\n",
       "        vertical-align: middle;\n",
       "    }\n",
       "\n",
       "    .dataframe tbody tr th {\n",
       "        vertical-align: top;\n",
       "    }\n",
       "\n",
       "    .dataframe thead th {\n",
       "        text-align: right;\n",
       "    }\n",
       "</style>\n",
       "<table border=\"1\" class=\"dataframe\">\n",
       "  <thead>\n",
       "    <tr style=\"text-align: right;\">\n",
       "      <th></th>\n",
       "      <th>mjj</th>\n",
       "      <th>mj_1</th>\n",
       "      <th>mj_2</th>\n",
       "      <th>tau21_1</th>\n",
       "      <th>tau21_2</th>\n",
       "      <th>tau32_1</th>\n",
       "      <th>tau32_2</th>\n",
       "      <th>tau43_1</th>\n",
       "      <th>tau43_2</th>\n",
       "      <th>ntrk_1</th>\n",
       "      <th>ntrk_2</th>\n",
       "    </tr>\n",
       "  </thead>\n",
       "  <tbody>\n",
       "    <tr>\n",
       "      <th>0</th>\n",
       "      <td>2096.183412</td>\n",
       "      <td>223.069712</td>\n",
       "      <td>67.170832</td>\n",
       "      <td>0.579873</td>\n",
       "      <td>0.579036</td>\n",
       "      <td>0.638075</td>\n",
       "      <td>0.526968</td>\n",
       "      <td>0.638075</td>\n",
       "      <td>0.526968</td>\n",
       "      <td>81.0</td>\n",
       "      <td>40.0</td>\n",
       "    </tr>\n",
       "    <tr>\n",
       "      <th>1</th>\n",
       "      <td>2397.087083</td>\n",
       "      <td>242.136131</td>\n",
       "      <td>77.530168</td>\n",
       "      <td>0.231106</td>\n",
       "      <td>0.789789</td>\n",
       "      <td>0.611108</td>\n",
       "      <td>0.806549</td>\n",
       "      <td>0.611108</td>\n",
       "      <td>0.806549</td>\n",
       "      <td>30.0</td>\n",
       "      <td>38.0</td>\n",
       "    </tr>\n",
       "    <tr>\n",
       "      <th>2</th>\n",
       "      <td>3707.091130</td>\n",
       "      <td>95.748156</td>\n",
       "      <td>583.321056</td>\n",
       "      <td>0.736647</td>\n",
       "      <td>0.180463</td>\n",
       "      <td>0.735905</td>\n",
       "      <td>0.589461</td>\n",
       "      <td>0.735905</td>\n",
       "      <td>0.589461</td>\n",
       "      <td>24.0</td>\n",
       "      <td>44.0</td>\n",
       "    </tr>\n",
       "    <tr>\n",
       "      <th>3</th>\n",
       "      <td>4376.529474</td>\n",
       "      <td>440.656938</td>\n",
       "      <td>144.897147</td>\n",
       "      <td>0.695671</td>\n",
       "      <td>0.628274</td>\n",
       "      <td>0.430099</td>\n",
       "      <td>0.618668</td>\n",
       "      <td>0.430099</td>\n",
       "      <td>0.618668</td>\n",
       "      <td>63.0</td>\n",
       "      <td>28.0</td>\n",
       "    </tr>\n",
       "    <tr>\n",
       "      <th>4</th>\n",
       "      <td>3062.404935</td>\n",
       "      <td>51.966746</td>\n",
       "      <td>116.588300</td>\n",
       "      <td>0.204460</td>\n",
       "      <td>0.438050</td>\n",
       "      <td>0.410539</td>\n",
       "      <td>0.691067</td>\n",
       "      <td>0.410539</td>\n",
       "      <td>0.691067</td>\n",
       "      <td>8.0</td>\n",
       "      <td>28.0</td>\n",
       "    </tr>\n",
       "    <tr>\n",
       "      <th>...</th>\n",
       "      <td>...</td>\n",
       "      <td>...</td>\n",
       "      <td>...</td>\n",
       "      <td>...</td>\n",
       "      <td>...</td>\n",
       "      <td>...</td>\n",
       "      <td>...</td>\n",
       "      <td>...</td>\n",
       "      <td>...</td>\n",
       "      <td>...</td>\n",
       "      <td>...</td>\n",
       "    </tr>\n",
       "    <tr>\n",
       "      <th>999995</th>\n",
       "      <td>3933.177701</td>\n",
       "      <td>333.614314</td>\n",
       "      <td>124.994022</td>\n",
       "      <td>0.713052</td>\n",
       "      <td>0.298036</td>\n",
       "      <td>0.761013</td>\n",
       "      <td>0.751069</td>\n",
       "      <td>0.761013</td>\n",
       "      <td>0.751069</td>\n",
       "      <td>104.0</td>\n",
       "      <td>39.0</td>\n",
       "    </tr>\n",
       "    <tr>\n",
       "      <th>999996</th>\n",
       "      <td>3027.998325</td>\n",
       "      <td>77.524902</td>\n",
       "      <td>420.259124</td>\n",
       "      <td>0.599249</td>\n",
       "      <td>0.194313</td>\n",
       "      <td>0.576260</td>\n",
       "      <td>0.770836</td>\n",
       "      <td>0.576260</td>\n",
       "      <td>0.770836</td>\n",
       "      <td>33.0</td>\n",
       "      <td>58.0</td>\n",
       "    </tr>\n",
       "    <tr>\n",
       "      <th>999997</th>\n",
       "      <td>3198.569075</td>\n",
       "      <td>632.781059</td>\n",
       "      <td>189.418110</td>\n",
       "      <td>0.209839</td>\n",
       "      <td>0.705933</td>\n",
       "      <td>0.455122</td>\n",
       "      <td>0.759474</td>\n",
       "      <td>0.455122</td>\n",
       "      <td>0.759474</td>\n",
       "      <td>76.0</td>\n",
       "      <td>65.0</td>\n",
       "    </tr>\n",
       "    <tr>\n",
       "      <th>999998</th>\n",
       "      <td>3638.008043</td>\n",
       "      <td>100.477660</td>\n",
       "      <td>150.893778</td>\n",
       "      <td>0.275823</td>\n",
       "      <td>0.709033</td>\n",
       "      <td>0.800408</td>\n",
       "      <td>0.481507</td>\n",
       "      <td>0.800408</td>\n",
       "      <td>0.481507</td>\n",
       "      <td>23.0</td>\n",
       "      <td>44.0</td>\n",
       "    </tr>\n",
       "    <tr>\n",
       "      <th>999999</th>\n",
       "      <td>2787.207440</td>\n",
       "      <td>103.831786</td>\n",
       "      <td>57.135772</td>\n",
       "      <td>0.509866</td>\n",
       "      <td>0.330555</td>\n",
       "      <td>0.615762</td>\n",
       "      <td>0.762719</td>\n",
       "      <td>0.615762</td>\n",
       "      <td>0.762719</td>\n",
       "      <td>61.0</td>\n",
       "      <td>37.0</td>\n",
       "    </tr>\n",
       "  </tbody>\n",
       "</table>\n",
       "<p>1000000 rows × 11 columns</p>\n",
       "</div>"
      ],
      "text/plain": [
       "                mjj        mj_1        mj_2   tau21_1   tau21_2   tau32_1  \\\n",
       "0       2096.183412  223.069712   67.170832  0.579873  0.579036  0.638075   \n",
       "1       2397.087083  242.136131   77.530168  0.231106  0.789789  0.611108   \n",
       "2       3707.091130   95.748156  583.321056  0.736647  0.180463  0.735905   \n",
       "3       4376.529474  440.656938  144.897147  0.695671  0.628274  0.430099   \n",
       "4       3062.404935   51.966746  116.588300  0.204460  0.438050  0.410539   \n",
       "...             ...         ...         ...       ...       ...       ...   \n",
       "999995  3933.177701  333.614314  124.994022  0.713052  0.298036  0.761013   \n",
       "999996  3027.998325   77.524902  420.259124  0.599249  0.194313  0.576260   \n",
       "999997  3198.569075  632.781059  189.418110  0.209839  0.705933  0.455122   \n",
       "999998  3638.008043  100.477660  150.893778  0.275823  0.709033  0.800408   \n",
       "999999  2787.207440  103.831786   57.135772  0.509866  0.330555  0.615762   \n",
       "\n",
       "         tau32_2   tau43_1   tau43_2  ntrk_1  ntrk_2  \n",
       "0       0.526968  0.638075  0.526968    81.0    40.0  \n",
       "1       0.806549  0.611108  0.806549    30.0    38.0  \n",
       "2       0.589461  0.735905  0.589461    24.0    44.0  \n",
       "3       0.618668  0.430099  0.618668    63.0    28.0  \n",
       "4       0.691067  0.410539  0.691067     8.0    28.0  \n",
       "...          ...       ...       ...     ...     ...  \n",
       "999995  0.751069  0.761013  0.751069   104.0    39.0  \n",
       "999996  0.770836  0.576260  0.770836    33.0    58.0  \n",
       "999997  0.759474  0.455122  0.759474    76.0    65.0  \n",
       "999998  0.481507  0.800408  0.481507    23.0    44.0  \n",
       "999999  0.762719  0.615762  0.762719    61.0    37.0  \n",
       "\n",
       "[1000000 rows x 11 columns]"
      ]
     },
     "execution_count": 96,
     "metadata": {},
     "output_type": "execute_result"
    }
   ],
   "source": [
    "out_df "
   ]
  },
  {
   "cell_type": "code",
   "execution_count": 78,
   "metadata": {},
   "outputs": [
    {
     "data": {
      "text/plain": [
       "103.83178590787475"
      ]
     },
     "execution_count": 78,
     "metadata": {},
     "output_type": "execute_result"
    }
   ],
   "source": [
    "jets[0].m()"
   ]
  },
  {
   "cell_type": "code",
   "execution_count": 56,
   "metadata": {},
   "outputs": [
    {
     "data": {
      "text/plain": [
       "2096.183412215967"
      ]
     },
     "execution_count": 56,
     "metadata": {},
     "output_type": "execute_result"
    }
   ],
   "source": [
    "(jets[0]+jets[1]).m()"
   ]
  },
  {
   "cell_type": "code",
   "execution_count": 48,
   "metadata": {},
   "outputs": [
    {
     "data": {
      "text/plain": [
       "array([[[ 1.23468857e+03, -6.28262735e+02,  1.16933234e+00,\n",
       "          1.25467818e+03],\n",
       "        [ 8.68532203e+02,  3.70963072e+02, -1.11802349e+02,\n",
       "          8.78270957e+02],\n",
       "        [ 1.41415077e+02,  1.10611717e+02, -4.87225457e+02,\n",
       "          5.09794281e+02],\n",
       "        [ 1.11158096e+02,  6.96153746e+01,  8.96182010e+02,\n",
       "          9.03168559e+02],\n",
       "        [ 0.00000000e+00,  0.00000000e+00,  0.00000000e+00,\n",
       "          0.00000000e+00],\n",
       "        [ 0.00000000e+00,  0.00000000e+00,  0.00000000e+00,\n",
       "          0.00000000e+00],\n",
       "        [ 0.00000000e+00,  0.00000000e+00,  0.00000000e+00,\n",
       "          0.00000000e+00],\n",
       "        [ 0.00000000e+00,  0.00000000e+00,  0.00000000e+00,\n",
       "          0.00000000e+00],\n",
       "        [ 0.00000000e+00,  0.00000000e+00,  0.00000000e+00,\n",
       "          0.00000000e+00],\n",
       "        [ 0.00000000e+00,  0.00000000e+00,  0.00000000e+00,\n",
       "          0.00000000e+00]]])"
      ]
     },
     "execution_count": 48,
     "metadata": {},
     "output_type": "execute_result"
    }
   ],
   "source": [
    "alljets"
   ]
  },
  {
   "cell_type": "code",
   "execution_count": 12,
   "metadata": {},
   "outputs": [
    {
     "data": {
      "text/plain": [
       "<fastjet.JetDefinition; proxy of <Swig Object of type 'fastjet::JetDefinition *' at 0x7fd1459c57e0> >"
      ]
     },
     "execution_count": 12,
     "metadata": {},
     "output_type": "execute_result"
    }
   ],
   "source": [
    "fj.JetDefinition(fj.antikt_algorithm, 0.5)"
   ]
  },
  {
   "cell_type": "code",
   "execution_count": 36,
   "metadata": {},
   "outputs": [
    {
     "data": {
      "text/plain": [
       "1202.5259775628438"
      ]
     },
     "execution_count": 36,
     "metadata": {},
     "output_type": "execute_result"
    }
   ],
   "source": [
    "jets[0].pt()"
   ]
  },
  {
   "cell_type": "code",
   "execution_count": 37,
   "metadata": {},
   "outputs": [
    {
     "data": {
      "text/plain": [
       "-1024.7741288829075"
      ]
     },
     "execution_count": 37,
     "metadata": {},
     "output_type": "execute_result"
    }
   ],
   "source": [
    "jets[0].px()"
   ]
  },
  {
   "cell_type": "code",
   "execution_count": 55,
   "metadata": {},
   "outputs": [
    {
     "data": {
      "text/plain": [
       "40"
      ]
     },
     "execution_count": 55,
     "metadata": {},
     "output_type": "execute_result"
    }
   ],
   "source": [
    "len(jets[1].constituents())"
   ]
  },
  {
   "cell_type": "code",
   "execution_count": 60,
   "metadata": {},
   "outputs": [
    {
     "data": {
      "text/plain": [
       "35.6268196105957"
      ]
     },
     "execution_count": 60,
     "metadata": {},
     "output_type": "execute_result"
    }
   ],
   "source": [
    "jets[1].constituents()[20].pt()"
   ]
  },
  {
   "cell_type": "code",
   "execution_count": null,
   "metadata": {},
   "outputs": [],
   "source": []
  }
 ],
 "metadata": {
  "kernelspec": {
   "display_name": "Python 3",
   "language": "python",
   "name": "python3"
  },
  "language_info": {
   "codemirror_mode": {
    "name": "ipython",
    "version": 3
   },
   "file_extension": ".py",
   "mimetype": "text/x-python",
   "name": "python",
   "nbconvert_exporter": "python",
   "pygments_lexer": "ipython3",
   "version": "3.8.5"
  }
 },
 "nbformat": 4,
 "nbformat_minor": 4
}
